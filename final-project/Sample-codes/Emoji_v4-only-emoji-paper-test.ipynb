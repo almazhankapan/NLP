{
 "cells": [
  {
   "cell_type": "code",
   "execution_count": null,
   "metadata": {},
   "outputs": [],
   "source": [
    "import pandas as pd\n",
    "import CMUTweetTagger\n",
    "from collections import OrderedDict, defaultdict, Counter\n",
    "import pandas as pd\n",
    "import csv\n",
    "from nltk.tokenize import TweetTokenizer\n",
    "from sklearn.feature_extraction.text import CountVectorizer\n",
    "import re\n",
    "import nltk\n",
    "import numpy as np\n",
    "from nltk.corpus import stopwords\n",
    "from sklearn import metrics\n",
    "from sklearn.metrics import classification_report\n",
    "from sklearn.svm import SVC\n",
    "from sklearn.preprocessing import StandardScaler\n",
    "import emot"
   ]
  },
  {
   "cell_type": "code",
   "execution_count": null,
   "metadata": {},
   "outputs": [],
   "source": [
    "#removing the stopwords\n",
    "def remove_stopwords(text, is_lower_case=False):\n",
    "    tweet_tokenizer = TweetTokenizer()\n",
    "    stopword_list=nltk.corpus.stopwords.words('english')\n",
    "    tokens = tweet_tokenizer.tokenize(text)\n",
    "    tokens = [token.strip() for token in tokens]\n",
    "    if is_lower_case:\n",
    "        filtered_tokens = [token for token in tokens if token not in stopword_list]\n",
    "    else:\n",
    "        filtered_tokens = [token for token in tokens if token.lower() not in stopword_list]\n",
    "    filtered_text = ' '.join(filtered_tokens)    \n",
    "    return filtered_text"
   ]
  },
  {
   "cell_type": "code",
   "execution_count": null,
   "metadata": {},
   "outputs": [],
   "source": [
    "def remove_url(sample):\n",
    "    return re.sub(r\"http\\S+\", \"\", sample)"
   ]
  },
  {
   "cell_type": "code",
   "execution_count": null,
   "metadata": {},
   "outputs": [],
   "source": [
    "def clean_df(file):\n",
    "    data = pd.read_csv(file, sep='\\t', names=[\"id\", \"polarity\", \"tweet\"])\n",
    "    data = data.drop_duplicates()\n",
    "    data['tweet']=data['tweet'].apply(remove_stopwords)\n",
    "    data['tweet']=data['tweet'].apply(remove_url)\n",
    "    data[\"tweaet\"] = data[\"tweet\"].str.lower() # lowercase\n",
    "    data = data.reset_index(drop=True)\n",
    "    return data"
   ]
  },
  {
   "cell_type": "code",
   "execution_count": null,
   "metadata": {},
   "outputs": [],
   "source": [
    "def get_emoji_dict(only_tweet_data):\n",
    "    store = defaultdict(float)\n",
    "    for tweet in only_tweet_data:\n",
    "        emojis = emot.emoji(tweet)\n",
    "        if len(emojis) > 0 and emojis['flag'] != False:\n",
    "            for each_emoji in emojis['value']:\n",
    "                store[each_emoji] += 1\n",
    "    return store"
   ]
  },
  {
   "cell_type": "code",
   "execution_count": null,
   "metadata": {},
   "outputs": [],
   "source": [
    "def detect_emojis(tweet):\n",
    "    for c in tweet:\n",
    "        if '0x{:x}'.format(ord(c)) in list(emoji_data[\"Unicode codepoint\"]):\n",
    "            return True\n",
    "    return False"
   ]
  },
  {
   "cell_type": "code",
   "execution_count": null,
   "metadata": {},
   "outputs": [],
   "source": [
    "def include_emoji(tweet):\n",
    "    if detect_emojis(tweet):\n",
    "        return {'include_emoji:' : 1}\n",
    "    else:\n",
    "        return {'include_emoji:' : 0}"
   ]
  },
  {
   "cell_type": "code",
   "execution_count": null,
   "metadata": {},
   "outputs": [],
   "source": [
    "def polarity(token):\n",
    "    score = 0\n",
    "    if isinstance(emoj_dict[token], list):\n",
    "        score = emoj_dict[token][1]\n",
    "    if score > 0:\n",
    "        return 'positive'\n",
    "    if score < 0:\n",
    "        return 'negative'"
   ]
  },
  {
   "cell_type": "code",
   "execution_count": null,
   "metadata": {},
   "outputs": [],
   "source": [
    "def last_token(tweet, tokenizer):\n",
    "    for token in reversed(tokenizer.tokenize(tweet)):\n",
    "        token = token.lower()\n",
    "        if polarity(token) == 'positive':\n",
    "            return {'last_polarity' : 1}\n",
    "        if polarity(token) == 'negative':\n",
    "            return {'last_polarity' : -1}\n",
    "        else:\n",
    "            return {'last_polarity' : 0}"
   ]
  },
  {
   "cell_type": "code",
   "execution_count": null,
   "metadata": {},
   "outputs": [],
   "source": [
    "def all_feats(tweet, tokenizer):\n",
    "    last = last_token(tweet, tokenizer)\n",
    "    emoji = include_emoji(tweet)\n",
    "    result = dict()\n",
    "    for dictionary in [emoji, last]:\n",
    "        result.update(dictionary)\n",
    "    return result"
   ]
  },
  {
   "cell_type": "code",
   "execution_count": null,
   "metadata": {},
   "outputs": [],
   "source": [
    "def get_feature(only_tweet_data, tokenizer):\n",
    "    emo_counts = [all_feats(tweet, tokenizer) for tweet in only_tweet_data]\n",
    "    emo_df = pd.DataFrame(emo_counts, index=only_tweet_data.index)\n",
    "    emo_df = emo_df.fillna(0)\n",
    "    emo_np = emo_df.to_numpy()\n",
    "    return emo_np"
   ]
  },
  {
   "cell_type": "code",
   "execution_count": null,
   "metadata": {},
   "outputs": [],
   "source": [
    "emoj_dict = defaultdict(float)\n",
    "emoji_data = pd.read_csv('./data/dataset/emoji_data_1.csv')\n",
    "for i in range(len(emoji_data)):\n",
    "    values = []\n",
    "    unicode = emoji_data[\"Unicode codepoint\"][i]\n",
    "    sentiment_score = emoji_data[\"Sentiment score [-1...+1]\"][i]\n",
    "    description = emoji_data[\"Unicode name\"][i]\n",
    "    values.extend((unicode, sentiment_score, description))\n",
    "    emoj_dict[emoji_data[\"Emoji\"][i]] = values"
   ]
  },
  {
   "cell_type": "code",
   "execution_count": null,
   "metadata": {},
   "outputs": [],
   "source": [
    "tweet_tokenizer = TweetTokenizer()\n",
    "train_data = clean_df(\"./data/dataset/final_train_data.csv\")\n",
    "only_tweet_train_data = train_data['tweet']\n",
    "train_emo_feature = get_feature(only_tweet_train_data, tweet_tokenizer)\n",
    "train_labels = train_data.polarity\n",
    "result = []\n",
    "for x in train_labels:\n",
    "    if x == \"positive\":\n",
    "        result.append(2)\n",
    "    elif x == \"negative\":\n",
    "        result.append(1)\n",
    "    elif x == \"neutral\":\n",
    "        result.append(0)\n",
    "train_labels = np.array(result)\n",
    "scaler = StandardScaler()\n",
    "train_emo_feature = scaler.fit_transform(train_emo_feature)\n",
    "train_features = np.array(train_emo_feature)\n",
    "\n",
    "print(\"train labels: \", train_labels) \n",
    "print(\"train features:\", train_features) \n",
    "print(\"train labels shape: \", train_labels.shape) \n",
    "print(\"train features shape:\", train_features.shape)"
   ]
  },
  {
   "cell_type": "code",
   "execution_count": null,
   "metadata": {},
   "outputs": [],
   "source": [
    "tweet_tokenizer = TweetTokenizer()\n",
    "data_path = input(\"Please type in the file path for developing/testing data:\")\n",
    "dev_data = clean_df(data_path)\n",
    "only_tweet_dev_data = dev_data['tweet']\n",
    "dev_Sentiment140_uni_feature = get_feature(only_tweet_dev_data, tweet_tokenizer)\n",
    "\n",
    "dev_labels = dev_data.polarity\n",
    "result = []\n",
    "for x in dev_labels:\n",
    "    if x == \"positive\":\n",
    "        result.append(2)\n",
    "    elif x == \"negative\":\n",
    "        result.append(1)\n",
    "    elif x == \"neutral\":\n",
    "        result.append(0)\n",
    "dev_labels = np.array(result)\n",
    "scaler = StandardScaler()\n",
    "dev_Sentiment140_uni_feature = scaler.fit_transform(dev_Sentiment140_uni_feature)\n",
    "dev_features = np.array(dev_Sentiment140_uni_feature)\n",
    "\n",
    "print(\"dev labels: \", dev_labels) \n",
    "print(\"dev features:\", dev_features) \n",
    "print(\"dev_labels shape: \", dev_labels.shape) \n",
    "print(\"dev_features shape:\", dev_features.shape) "
   ]
  }
 ],
 "metadata": {
  "kernelspec": {
   "display_name": "Python 3",
   "language": "python",
   "name": "python3"
  },
  "language_info": {
   "codemirror_mode": {
    "name": "ipython",
    "version": 3
   },
   "file_extension": ".py",
   "mimetype": "text/x-python",
   "name": "python",
   "nbconvert_exporter": "python",
   "pygments_lexer": "ipython3",
   "version": "3.8.3"
  }
 },
 "nbformat": 4,
 "nbformat_minor": 4
}
