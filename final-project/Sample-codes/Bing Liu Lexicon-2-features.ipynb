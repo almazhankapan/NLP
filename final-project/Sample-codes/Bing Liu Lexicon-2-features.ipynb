{
 "cells": [
  {
   "cell_type": "code",
   "execution_count": null,
   "metadata": {},
   "outputs": [],
   "source": [
    "from collections import OrderedDict, defaultdict, Counter\n",
    "import re\n",
    "import pandas as pd\n",
    "from nltk.tokenize import TweetTokenizer\n",
    "import nltk\n",
    "import numpy as np\n",
    "from nltk.corpus import stopwords\n",
    "from sklearn import metrics\n",
    "from sklearn.metrics import classification_report\n",
    "from sklearn.svm import SVC\n",
    "from sklearn.preprocessing import StandardScaler\n",
    "import csv"
   ]
  },
  {
   "cell_type": "code",
   "execution_count": null,
   "metadata": {},
   "outputs": [],
   "source": [
    "#removing the stopwords\n",
    "def remove_stopwords(text, is_lower_case=False):\n",
    "    tweet_tokenizer = TweetTokenizer()\n",
    "    stopword_list=nltk.corpus.stopwords.words('english')\n",
    "    tokens = tweet_tokenizer.tokenize(text)\n",
    "    tokens = [token.strip() for token in tokens]\n",
    "    if is_lower_case:\n",
    "        filtered_tokens = [token for token in tokens if token not in stopword_list]\n",
    "    else:\n",
    "        filtered_tokens = [token for token in tokens if token.lower() not in stopword_list]\n",
    "    filtered_text = ' '.join(filtered_tokens)    \n",
    "    return filtered_text"
   ]
  },
  {
   "cell_type": "code",
   "execution_count": null,
   "metadata": {},
   "outputs": [],
   "source": [
    "def clean_df(file):\n",
    "    data = pd.read_csv(file, sep='\\t', names=[\"id\", \"polarity\", \"tweet\"])\n",
    "    data = data.drop_duplicates()\n",
    "    data['tweet']=data['tweet'].apply(remove_stopwords)\n",
    "    data[\"tweet\"] = data[\"tweet\"].str.lower() # lowercase\n",
    "    data = data.reset_index(drop=True)\n",
    "    return data"
   ]
  },
  {
   "cell_type": "code",
   "execution_count": null,
   "metadata": {},
   "outputs": [],
   "source": [
    "def generate_bin_count(tweet, tokenizer):\n",
    "    bin_count = Counter()\n",
    "    for token in tokenizer.tokenize(tweet):\n",
    "        token = token.lower()\n",
    "        bin_count += Counter(word_dict[token])\n",
    "    return bin_count"
   ]
  },
  {
   "cell_type": "code",
   "execution_count": null,
   "metadata": {},
   "outputs": [],
   "source": [
    "def get_feature(only_tweet_data, tokenizer):\n",
    "    bin_counts = [generate_bin_count(tweet, tokenizer) for tweet in only_tweet_data]\n",
    "    bin_df = pd.DataFrame(bin_counts, index=only_tweet_data.index)\n",
    "    bin_df = bin_df.fillna(0)\n",
    "    bin_np = bin_df.to_numpy()\n",
    "    return bin_np"
   ]
  },
  {
   "cell_type": "code",
   "execution_count": null,
   "metadata": {},
   "outputs": [],
   "source": [
    "neg_list = []\n",
    "pos_list = []\n",
    "word_dict = defaultdict(list)\n",
    "with open('./data/Bing Liu -lexicon-English/positive-words.txt', 'r', encoding='unicode_escape') as f:\n",
    "    reader = csv.reader(f)\n",
    "    headerRows = [i for i in range(0, 30)]\n",
    "    for row in headerRows:\n",
    "        next(reader)\n",
    "    for word in reader:\n",
    "        pos_list.extend(word[0])\n",
    "        word_dict[word[0]].append('positive')\n",
    "\n",
    "with open('./data/Bing Liu -lexicon-English/negative-words.txt', 'r', encoding='unicode_escape') as f:\n",
    "    reader = csv.reader(f)\n",
    "    headerRows = [i for i in range(0, 31)]\n",
    "    for row in headerRows:\n",
    "        next(reader)\n",
    "    for word in reader:\n",
    "        neg_list.extend(word[0])\n",
    "        word_dict[word[0]].append('negative')"
   ]
  },
  {
   "cell_type": "code",
   "execution_count": null,
   "metadata": {},
   "outputs": [],
   "source": [
    "tweet_tokenizer = TweetTokenizer()\n",
    "train_data = clean_df(\"./data/dataset/twitter-2013train-A.txt\")\n",
    "only_tweet_train_data = train_data['tweet']\n",
    "train_bing_liu_feature = get_feature(only_tweet_train_data, tweet_tokenizer)\n",
    "\n",
    "train_labels = train_data.polarity\n",
    "result = []\n",
    "for x in train_labels:\n",
    "    if x == \"positive\":\n",
    "        result.append(2)\n",
    "    elif x == \"negative\":\n",
    "        result.append(1)\n",
    "    elif x == \"neutral\":\n",
    "        result.append(0)\n",
    "train_labels = np.array(result)\n",
    "scaler = StandardScaler()\n",
    "train_bing_liu_feature = scaler.fit_transform(train_bing_liu_feature)\n",
    "train_features = np.array(train_bing_liu_feature)\n",
    "\n",
    "print(\"train labels: \", train_labels) \n",
    "print(\"train features:\", train_features) \n",
    "print(\"train labels shape: \", train_labels.shape) \n",
    "print(\"train features shape:\", train_features.shape)"
   ]
  },
  {
   "cell_type": "code",
   "execution_count": null,
   "metadata": {},
   "outputs": [],
   "source": [
    "tweet_tokenizer = TweetTokenizer()\n",
    "data_path = \"./data/dataset/twitter-2013dev-A.txt\"\n",
    "dev_data = clean_df(data_path)\n",
    "only_tweet_dev_data = dev_data['tweet']\n",
    "dev_bing_liu_feature = get_feature(only_tweet_dev_data, tweet_tokenizer)\n",
    "\n",
    "dev_labels = dev_data.polarity\n",
    "result = []\n",
    "for x in dev_labels:\n",
    "    if x == \"positive\":\n",
    "        result.append(2)\n",
    "    elif x == \"negative\":\n",
    "        result.append(1)\n",
    "    elif x == \"neutral\":\n",
    "        result.append(0)\n",
    "dev_labels = np.array(result)\n",
    "scaler = StandardScaler()\n",
    "dev_bing_liu_feature = scaler.fit_transform(dev_bing_liu_feature)\n",
    "dev_features = np.array(dev_bing_liu_feature)\n",
    "\n",
    "print(\"dev labels: \", dev_labels) \n",
    "print(\"dev features:\", dev_features) \n",
    "print(\"dev_labels shape: \", dev_labels.shape) \n",
    "print(\"dev_features shape:\", dev_features.shape) "
   ]
  },
  {
   "cell_type": "code",
   "execution_count": null,
   "metadata": {},
   "outputs": [],
   "source": [
    "clf = SVC(kernel='linear', C=0.005, probability=True)\n",
    "\n",
    "sample_weight = np.array([3.14 if i == 1 else 1 for i in train_labels])\n",
    "\n",
    "clf.fit(train_features, train_labels, sample_weight = sample_weight)\n",
    "\n",
    "predictions = clf.predict(dev_features)\n",
    "\n",
    "print(\"A Classification Report showing the per-class Precision, Recall and F1-score \\n\\n\", metrics.classification_report(dev_labels, predictions,target_names=['neutral','negative','positive']))"
   ]
  },
  {
   "cell_type": "code",
   "execution_count": null,
   "metadata": {},
   "outputs": [],
   "source": [
    "clf = SVC(kernel='linear', C=1, probability=True)\n",
    "\n",
    "sample_weight = np.array([3.14 if i == 1 else 1 for i in train_labels])\n",
    "\n",
    "clf.fit(train_features, train_labels, sample_weight = sample_weight)\n",
    "\n",
    "predictions = clf.predict(dev_features)\n",
    "\n",
    "print(\"A Classification Report showing the per-class Precision, Recall and F1-score \\n\\n\", metrics.classification_report(dev_labels, predictions,target_names=['neutral','negative','positive']))"
   ]
  },
  {
   "cell_type": "code",
   "execution_count": null,
   "metadata": {},
   "outputs": [],
   "source": [
    "clf = SVC(kernel='linear', C=0.005, probability=True)\n",
    "\n",
    "arr = []\n",
    "\n",
    "for i in train_labels:\n",
    "    if i == 1:\n",
    "        arr.append(3.14)\n",
    "    elif i == 2:\n",
    "        arr.append(1.25)\n",
    "    else:\n",
    "        arr.append(1)\n",
    "\n",
    "sample_weight = np.array(arr)\n",
    "clf.fit(train_features, train_labels, sample_weight = sample_weight)\n",
    "\n",
    "predictions = clf.predict(dev_features)\n",
    "\n",
    "print(\"A Classification Report showing the per-class Precision, Recall and F1-score \\n\\n\", metrics.classification_report(dev_labels, predictions,target_names=['neutral','negative','positive']))"
   ]
  },
  {
   "cell_type": "code",
   "execution_count": null,
   "metadata": {},
   "outputs": [],
   "source": [
    "clf = SVC(kernel='linear', C=1, probability=True)\n",
    "\n",
    "arr = []\n",
    "\n",
    "for i in train_labels:\n",
    "    if i == 1:\n",
    "        arr.append(3.14)\n",
    "    elif i == 2:\n",
    "        arr.append(1.25)\n",
    "    else:\n",
    "        arr.append(1)\n",
    "\n",
    "\n",
    "sample_weight = np.array(arr)\n",
    "clf.fit(train_features, train_labels, sample_weight = sample_weight)\n",
    "\n",
    "predictions = clf.predict(dev_features)\n",
    "\n",
    "print(\"A Classification Report showing the per-class Precision, Recall and F1-score \\n\\n\", metrics.classification_report(dev_labels, predictions,target_names=['neutral','negative','positive']))"
   ]
  },
  {
   "cell_type": "markdown",
   "metadata": {},
   "source": [
    "# Test"
   ]
  },
  {
   "cell_type": "code",
   "execution_count": null,
   "metadata": {},
   "outputs": [],
   "source": [
    "tweet_tokenizer = TweetTokenizer()\n",
    "data_path = \"./data/dataset/twitter-2013test-A.txt\"\n",
    "dev_data = clean_df(data_path)\n",
    "only_tweet_dev_data = dev_data['tweet']\n",
    "dev_bing_liu_feature = get_feature(only_tweet_dev_data, tweet_tokenizer)\n",
    "\n",
    "dev_labels = dev_data.polarity\n",
    "result = []\n",
    "for x in dev_labels:\n",
    "    if x == \"positive\":\n",
    "        result.append(2)\n",
    "    elif x == \"negative\":\n",
    "        result.append(1)\n",
    "    elif x == \"neutral\":\n",
    "        result.append(0)\n",
    "dev_labels = np.array(result)\n",
    "scaler = StandardScaler()\n",
    "dev_bing_liu_feature = scaler.fit_transform(dev_bing_liu_feature)\n",
    "dev_features = np.array(dev_bing_liu_feature)\n",
    "\n",
    "print(\"dev labels: \", dev_labels) \n",
    "print(\"dev features:\", dev_features) \n",
    "print(\"dev_labels shape: \", dev_labels.shape) \n",
    "print(\"dev_features shape:\", dev_features.shape) "
   ]
  },
  {
   "cell_type": "code",
   "execution_count": null,
   "metadata": {},
   "outputs": [],
   "source": [
    "file = open(\"bing_liu_2_features_vector.txt\", \"w+\")\n",
    "for i in dev_bing_liu_feature:\n",
    "    content = str(i)\n",
    "    file.write(content)\n",
    "file.close()"
   ]
  },
  {
   "cell_type": "code",
   "execution_count": null,
   "metadata": {},
   "outputs": [],
   "source": [
    "clf = SVC(kernel='linear', C=0.005, probability=True)\n",
    "\n",
    "sample_weight = np.array([3.14 if i == 1 else 1 for i in train_labels])\n",
    "\n",
    "clf.fit(train_features, train_labels, sample_weight = sample_weight)\n",
    "\n",
    "predictions = clf.predict(dev_features)\n",
    "\n",
    "print(\"A Classification Report showing the per-class Precision, Recall and F1-score \\n\\n\", metrics.classification_report(dev_labels, predictions,target_names=['neutral','negative','positive']))"
   ]
  },
  {
   "cell_type": "code",
   "execution_count": null,
   "metadata": {},
   "outputs": [],
   "source": [
    "clf = SVC(kernel='linear', C=1, probability=True)\n",
    "\n",
    "sample_weight = np.array([3.14 if i == 1 else 1 for i in train_labels])\n",
    "\n",
    "clf.fit(train_features, train_labels, sample_weight = sample_weight)\n",
    "\n",
    "predictions = clf.predict(dev_features)\n",
    "\n",
    "print(\"A Classification Report showing the per-class Precision, Recall and F1-score \\n\\n\", metrics.classification_report(dev_labels, predictions,target_names=['neutral','negative','positive']))"
   ]
  },
  {
   "cell_type": "code",
   "execution_count": null,
   "metadata": {},
   "outputs": [],
   "source": [
    "clf = SVC(kernel='linear', C=0.005, probability=True)\n",
    "\n",
    "arr = []\n",
    "\n",
    "for i in train_labels:\n",
    "    if i == 1:\n",
    "        arr.append(3.14)\n",
    "    elif i == 2:\n",
    "        arr.append(1.25)\n",
    "    else:\n",
    "        arr.append(1)\n",
    "\n",
    "\n",
    "sample_weight = np.array(arr)\n",
    "clf.fit(train_features, train_labels, sample_weight = sample_weight)\n",
    "\n",
    "predictions = clf.predict(dev_features)\n",
    "\n",
    "print(\"A Classification Report showing the per-class Precision, Recall and F1-score \\n\\n\", metrics.classification_report(dev_labels, predictions,target_names=['neutral','negative','positive']))"
   ]
  },
  {
   "cell_type": "code",
   "execution_count": null,
   "metadata": {},
   "outputs": [],
   "source": [
    "clf = SVC(kernel='linear', C=1, probability=True)\n",
    "\n",
    "arr = []\n",
    "\n",
    "for i in train_labels:\n",
    "    if i == 1:\n",
    "        arr.append(3.14)\n",
    "    elif i == 2:\n",
    "        arr.append(1.25)\n",
    "    else:\n",
    "        arr.append(1)\n",
    "\n",
    "\n",
    "sample_weight = np.array(arr)\n",
    "clf.fit(train_features, train_labels, sample_weight = sample_weight)\n",
    "\n",
    "predictions = clf.predict(dev_features)\n",
    "\n",
    "print(\"A Classification Report showing the per-class Precision, Recall and F1-score \\n\\n\", metrics.classification_report(dev_labels, predictions,target_names=['neutral','negative','positive']))"
   ]
  },
  {
   "cell_type": "code",
   "execution_count": null,
   "metadata": {},
   "outputs": [],
   "source": [
    "from sklearn.model_selection import GridSearchCV\n",
    "  \n",
    "param_grid = {'C': [0.005, 0.1, 0.5, 1], \n",
    "              'kernel': ['linear','rbf']} \n",
    "  \n",
    "grid = GridSearchCV(SVC(), param_grid, refit = True, verbose = 3)\n",
    "  \n",
    "grid.fit(train_features, train_labels)\n",
    "\n",
    "print(grid.best_params_)\n",
    "  \n",
    "print(grid.best_estimator_)\n",
    "\n",
    "grid_predictions = grid.predict(dev_features)\n",
    "  \n",
    "print(classification_report(dev_labels, grid_predictions))"
   ]
  }
 ],
 "metadata": {
  "kernelspec": {
   "display_name": "Python 3",
   "language": "python",
   "name": "python3"
  },
  "language_info": {
   "codemirror_mode": {
    "name": "ipython",
    "version": 3
   },
   "file_extension": ".py",
   "mimetype": "text/x-python",
   "name": "python",
   "nbconvert_exporter": "python",
   "pygments_lexer": "ipython3",
   "version": "3.8.3"
  }
 },
 "nbformat": 4,
 "nbformat_minor": 4
}
